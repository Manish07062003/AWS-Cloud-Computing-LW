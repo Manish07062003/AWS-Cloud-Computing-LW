{
 "cells": [
  {
   "cell_type": "code",
   "execution_count": null,
   "id": "11643247",
   "metadata": {},
   "outputs": [],
   "source": [
    "import boto3"
   ]
  },
  {
   "cell_type": "code",
   "execution_count": null,
   "id": "05e7c254",
   "metadata": {},
   "outputs": [],
   "source": [
    "sns=boto3.client(\"sns\")\n",
    "sns"
   ]
  },
  {
   "cell_type": "code",
   "execution_count": null,
   "id": "71f4e1e4",
   "metadata": {
    "scrolled": true
   },
   "outputs": [],
   "source": [
    "sns.publish(\n",
    "     TopicArn='arn:aws:sns:ap-south-1:671343497606:manishTopic',\n",
    "     Message='I am From Boto3',\n",
    "     Subject='Boto3',\n",
    ")"
   ]
  }
 ],
 "metadata": {
  "kernelspec": {
   "display_name": "Python 3 (ipykernel)",
   "language": "python",
   "name": "python3"
  },
  "language_info": {
   "codemirror_mode": {
    "name": "ipython",
    "version": 3
   },
   "file_extension": ".py",
   "mimetype": "text/x-python",
   "name": "python",
   "nbconvert_exporter": "python",
   "pygments_lexer": "ipython3",
   "version": "3.9.12"
  }
 },
 "nbformat": 4,
 "nbformat_minor": 5
}
