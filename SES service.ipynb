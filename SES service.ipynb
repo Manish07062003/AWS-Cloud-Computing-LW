{
 "cells": [
  {
   "cell_type": "code",
   "execution_count": 1,
   "id": "46f714fe",
   "metadata": {},
   "outputs": [],
   "source": [
    "import boto3"
   ]
  },
  {
   "cell_type": "code",
   "execution_count": 16,
   "id": "0e15543b",
   "metadata": {},
   "outputs": [],
   "source": [
    "ses = boto3.client(\"ses\")"
   ]
  },
  {
   "cell_type": "code",
   "execution_count": 59,
   "id": "4afd90d0",
   "metadata": {},
   "outputs": [],
   "source": [
    "recipients=[\"20mcme11@uohyd.ac.in\",\"manishdiddi04@gmail.com\",\"manishdiddi03@gmail.com\"]\n",
    "charset = 'UTF-8'"
   ]
  },
  {
   "cell_type": "code",
   "execution_count": 60,
   "id": "614b9b81",
   "metadata": {},
   "outputs": [
    {
     "name": "stdout",
     "output_type": "stream",
     "text": [
      "{'ResponseMetadata': {'RequestId': '363462cd-a22f-40ab-a3a4-0c33c14dfd05', 'HTTPStatusCode': 200, 'HTTPHeaders': {'date': 'Tue, 27 Jun 2023 13:18:34 GMT', 'content-type': 'text/xml', 'content-length': '248', 'connection': 'keep-alive', 'x-amzn-requestid': '363462cd-a22f-40ab-a3a4-0c33c14dfd05'}, 'RetryAttempts': 0}}\n",
      "{'ResponseMetadata': {'RequestId': '30a52988-5f17-4491-ae30-65ad00e95a42', 'HTTPStatusCode': 200, 'HTTPHeaders': {'date': 'Tue, 27 Jun 2023 13:18:34 GMT', 'content-type': 'text/xml', 'content-length': '248', 'connection': 'keep-alive', 'x-amzn-requestid': '30a52988-5f17-4491-ae30-65ad00e95a42'}, 'RetryAttempts': 0}}\n",
      "{'ResponseMetadata': {'RequestId': '443fb622-56c2-4af8-a522-fdb7d8fdcdde', 'HTTPStatusCode': 200, 'HTTPHeaders': {'date': 'Tue, 27 Jun 2023 13:18:34 GMT', 'content-type': 'text/xml', 'content-length': '248', 'connection': 'keep-alive', 'x-amzn-requestid': '443fb622-56c2-4af8-a522-fdb7d8fdcdde'}, 'RetryAttempts': 0}}\n"
     ]
    }
   ],
   "source": [
    "for i in recipients:\n",
    "    response = ses.verify_email_identity(\n",
    "        EmailAddress=i,\n",
    "    )\n",
    "    print(response)"
   ]
  },
  {
   "cell_type": "code",
   "execution_count": 56,
   "id": "43027f94",
   "metadata": {},
   "outputs": [
    {
     "name": "stdout",
     "output_type": "stream",
     "text": [
      "{'ResponseMetadata': {'RequestId': 'd2577471-ec77-4fe4-8834-a3fedfb2985f', 'HTTPStatusCode': 200, 'HTTPHeaders': {'date': 'Tue, 27 Jun 2023 13:14:15 GMT', 'content-type': 'text/xml', 'content-length': '233', 'connection': 'keep-alive', 'x-amzn-requestid': 'd2577471-ec77-4fe4-8834-a3fedfb2985f'}, 'RetryAttempts': 0}}\n",
      "{'ResponseMetadata': {'RequestId': '1479a916-7aef-4202-b337-2197603be661', 'HTTPStatusCode': 200, 'HTTPHeaders': {'date': 'Tue, 27 Jun 2023 13:14:15 GMT', 'content-type': 'text/xml', 'content-length': '233', 'connection': 'keep-alive', 'x-amzn-requestid': '1479a916-7aef-4202-b337-2197603be661'}, 'RetryAttempts': 0}}\n",
      "{'ResponseMetadata': {'RequestId': 'f1ecdd89-ce1b-449c-b1cf-2a7f74b96a34', 'HTTPStatusCode': 200, 'HTTPHeaders': {'date': 'Tue, 27 Jun 2023 13:14:15 GMT', 'content-type': 'text/xml', 'content-length': '233', 'connection': 'keep-alive', 'x-amzn-requestid': 'f1ecdd89-ce1b-449c-b1cf-2a7f74b96a34'}, 'RetryAttempts': 0}}\n"
     ]
    }
   ],
   "source": [
    "for i in recipients:\n",
    "    response = ses.delete_identity(Identity=i)\n",
    "    print(response)"
   ]
  },
  {
   "cell_type": "code",
   "execution_count": 61,
   "id": "ebba0af9",
   "metadata": {},
   "outputs": [
    {
     "data": {
      "text/plain": [
       "{'Identities': ['20mcme11@uohyd.ac.in',\n",
       "  'manishdiddi04@gmail.com',\n",
       "  'manishdiddi03@gmail.com'],\n",
       " 'ResponseMetadata': {'RequestId': 'a0bd809a-a5cd-489d-ae04-c0b3d9d9f5d9',\n",
       "  'HTTPStatusCode': 200,\n",
       "  'HTTPHeaders': {'date': 'Tue, 27 Jun 2023 13:18:39 GMT',\n",
       "   'content-type': 'text/xml',\n",
       "   'content-length': '431',\n",
       "   'connection': 'keep-alive',\n",
       "   'x-amzn-requestid': 'a0bd809a-a5cd-489d-ae04-c0b3d9d9f5d9'},\n",
       "  'RetryAttempts': 0}}"
      ]
     },
     "execution_count": 61,
     "metadata": {},
     "output_type": "execute_result"
    }
   ],
   "source": [
    "response = ses.list_identities(\n",
    "    IdentityType='EmailAddress'\n",
    ")\n",
    "response"
   ]
  },
  {
   "cell_type": "code",
   "execution_count": 62,
   "id": "6d57db02",
   "metadata": {},
   "outputs": [
    {
     "data": {
      "text/plain": [
       "{'MessageId': '01090188fd01e63d-1a597f57-d127-4e85-a001-b7c764e62063-000000',\n",
       " 'ResponseMetadata': {'RequestId': '2d995332-7812-4298-8257-2b2ea92b545d',\n",
       "  'HTTPStatusCode': 200,\n",
       "  'HTTPHeaders': {'date': 'Tue, 27 Jun 2023 13:19:00 GMT',\n",
       "   'content-type': 'text/xml',\n",
       "   'content-length': '326',\n",
       "   'connection': 'keep-alive',\n",
       "   'x-amzn-requestid': '2d995332-7812-4298-8257-2b2ea92b545d'},\n",
       "  'RetryAttempts': 0}}"
      ]
     },
     "execution_count": 62,
     "metadata": {},
     "output_type": "execute_result"
    }
   ],
   "source": [
    "ses.send_email(\n",
    "    Source = \"manishdiddi03@gmail.com\",\n",
    "    Destination = {\n",
    "        'ToAddresses': recipients\n",
    "    },\n",
    "    Message={\n",
    "          'Subject': {\n",
    "              'Data': 'Testing SES from python',\n",
    "              'Charset': charset\n",
    "          },\n",
    "          'Body': {\n",
    "              'Text': {\n",
    "                  'Data': 'Hello! I am from Manish AWS SES service',\n",
    "                  'Charset': charset\n",
    "              }\n",
    "          }\n",
    "      }\n",
    "    \n",
    ")"
   ]
  }
 ],
 "metadata": {
  "kernelspec": {
   "display_name": "Python 3 (ipykernel)",
   "language": "python",
   "name": "python3"
  },
  "language_info": {
   "codemirror_mode": {
    "name": "ipython",
    "version": 3
   },
   "file_extension": ".py",
   "mimetype": "text/x-python",
   "name": "python",
   "nbconvert_exporter": "python",
   "pygments_lexer": "ipython3",
   "version": "3.9.12"
  }
 },
 "nbformat": 4,
 "nbformat_minor": 5
}
