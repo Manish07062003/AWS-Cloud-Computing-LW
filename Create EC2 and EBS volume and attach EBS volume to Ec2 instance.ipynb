{
 "cells": [
  {
   "cell_type": "code",
   "execution_count": null,
   "id": "09936fd8",
   "metadata": {},
   "outputs": [],
   "source": [
    "# creating EC2 instance\n",
    "\n",
    "import boto3\n",
    "\n",
    "ec2_client = boto3.client('ec2')\n",
    "\n",
    "image_id = 'ami-049a62eb90480f276'\n",
    "\n",
    "security_group_id = 'sg-013146ddf51ebe76e'\n",
    "\n",
    "instance = ec2_client.run_instances(\n",
    "                    ImageId=image_id, \n",
    "                    InstanceType='t2.micro',   \n",
    "                    MaxCount=1,    \n",
    "                    MinCount=1,    \n",
    "                    SecurityGroupIds=[security_group_id]\n",
    "           )\n",
    "\n",
    "instance_id = instance['Instances'][0]['InstanceId']\n",
    "print(instance_id)"
   ]
  },
  {
   "cell_type": "code",
   "execution_count": null,
   "id": "e5a1f00c",
   "metadata": {},
   "outputs": [],
   "source": [
    "# creating volume\n",
    "\n",
    "import boto3\n",
    "\n",
    "ec2_client = boto3.client('ec2')\n",
    "\n",
    "availability_zone = 'ap-south-1b'\n",
    "\n",
    "volume = ec2_client.create_volume(    \n",
    "                    AvailabilityZone=availability_zone,    \n",
    "                    Size=10,    \n",
    "                    VolumeType='gp2'\n",
    "          )\n",
    "\n",
    "volume_id = volume['VolumeId']\n",
    "print(volume_id)"
   ]
  },
  {
   "cell_type": "code",
   "execution_count": null,
   "id": "2f5aff62",
   "metadata": {},
   "outputs": [],
   "source": []
  },
  {
   "cell_type": "code",
   "execution_count": null,
   "id": "16580189",
   "metadata": {},
   "outputs": [],
   "source": []
  },
  {
   "cell_type": "code",
   "execution_count": null,
   "id": "a32fb4b8",
   "metadata": {},
   "outputs": [],
   "source": []
  },
  {
   "cell_type": "code",
   "execution_count": null,
   "id": "89e21f48",
   "metadata": {},
   "outputs": [],
   "source": []
  },
  {
   "cell_type": "code",
   "execution_count": null,
   "id": "9cf4a761",
   "metadata": {},
   "outputs": [],
   "source": []
  },
  {
   "cell_type": "code",
   "execution_count": null,
   "id": "42256fe0",
   "metadata": {},
   "outputs": [],
   "source": []
  },
  {
   "cell_type": "code",
   "execution_count": null,
   "id": "f42f57b6",
   "metadata": {},
   "outputs": [],
   "source": []
  },
  {
   "cell_type": "code",
   "execution_count": null,
   "id": "b0451f32",
   "metadata": {},
   "outputs": [],
   "source": []
  },
  {
   "cell_type": "code",
   "execution_count": null,
   "id": "66c033c4",
   "metadata": {},
   "outputs": [],
   "source": []
  },
  {
   "cell_type": "code",
   "execution_count": null,
   "id": "6b9ad0c0",
   "metadata": {},
   "outputs": [],
   "source": []
  },
  {
   "cell_type": "code",
   "execution_count": null,
   "id": "1025010e",
   "metadata": {},
   "outputs": [],
   "source": []
  },
  {
   "cell_type": "code",
   "execution_count": 1,
   "id": "0807ee2b",
   "metadata": {},
   "outputs": [
    {
     "name": "stdout",
     "output_type": "stream",
     "text": [
      "{'AttachTime': datetime.datetime(2023, 6, 30, 14, 7, 45, 954000, tzinfo=tzutc()), 'Device': '/dev/sdf', 'InstanceId': 'i-09b33a22b086a47a2', 'State': 'attaching', 'VolumeId': 'vol-04957037b22434ade', 'ResponseMetadata': {'RequestId': '7b928c1f-a863-4db9-b53b-b23a7d439037', 'HTTPStatusCode': 200, 'HTTPHeaders': {'x-amzn-requestid': '7b928c1f-a863-4db9-b53b-b23a7d439037', 'cache-control': 'no-cache, no-store', 'strict-transport-security': 'max-age=31536000; includeSubDomains', 'content-type': 'text/xml;charset=UTF-8', 'content-length': '410', 'date': 'Fri, 30 Jun 2023 14:07:45 GMT', 'server': 'AmazonEC2'}, 'RetryAttempts': 0}}\n"
     ]
    }
   ],
   "source": [
    "import boto3\n",
    "\n",
    "ec2_client = boto3.client('ec2')\n",
    "\n",
    "instance_id = 'i-09b33a22b086a47a2'\n",
    "\n",
    "volume_id = 'vol-04957037b22434ade'\n",
    "\n",
    "result = ec2_client.attach_volume(    \n",
    "                     Device='/dev/sdf',    \n",
    "                     InstanceId=instance_id,   \n",
    "                     VolumeId=volume_id\n",
    "         )\n",
    "print(result)"
   ]
  },
  {
   "cell_type": "code",
   "execution_count": null,
   "id": "4826a5d4",
   "metadata": {},
   "outputs": [],
   "source": []
  },
  {
   "cell_type": "code",
   "execution_count": null,
   "id": "5b93eb39",
   "metadata": {},
   "outputs": [],
   "source": []
  },
  {
   "cell_type": "code",
   "execution_count": null,
   "id": "059fb7f1",
   "metadata": {},
   "outputs": [],
   "source": []
  }
 ],
 "metadata": {
  "language_info": {
   "codemirror_mode": {
    "name": "ipython",
    "version": 3
   },
   "file_extension": ".py",
   "mimetype": "text/x-python",
   "name": "python",
   "nbconvert_exporter": "python",
   "pygments_lexer": "ipython3",
   "version": "3.9.12"
  }
 },
 "nbformat": 4,
 "nbformat_minor": 5
}
