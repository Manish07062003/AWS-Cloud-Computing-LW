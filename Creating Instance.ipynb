{
 "cells": [
  {
   "cell_type": "code",
   "execution_count": 2,
   "id": "71fc3043",
   "metadata": {},
   "outputs": [],
   "source": [
    "import boto3"
   ]
  },
  {
   "cell_type": "code",
   "execution_count": 3,
   "id": "0514b722",
   "metadata": {},
   "outputs": [
    {
     "data": {
      "text/plain": [
       "ec2.ServiceResource()"
      ]
     },
     "execution_count": 3,
     "metadata": {},
     "output_type": "execute_result"
    }
   ],
   "source": [
    "# we connect with the ec2 service\n",
    "myec2 = boto3.resource(\"ec2\")\n",
    "myec2"
   ]
  },
  {
   "cell_type": "code",
   "execution_count": 7,
   "id": "4be8065d",
   "metadata": {},
   "outputs": [],
   "source": [
    "# function to create ec2 instance\n",
    "response = myec2.create_instances(ImageId = 'ami-057752b3f1d6c4d6c',InstanceType = 't2.micro',MaxCount=1,MinCount=1)"
   ]
  },
  {
   "cell_type": "code",
   "execution_count": 8,
   "id": "e6b6921a",
   "metadata": {},
   "outputs": [
    {
     "data": {
      "text/plain": [
       "'i-0718f2592a1174874'"
      ]
     },
     "execution_count": 8,
     "metadata": {},
     "output_type": "execute_result"
    }
   ],
   "source": [
    "# to get the id of the created instance\n",
    "response[0].id"
   ]
  },
  {
   "cell_type": "code",
   "execution_count": 10,
   "id": "3f90bd66",
   "metadata": {},
   "outputs": [
    {
     "data": {
      "text/plain": [
       "'ami-057752b3f1d6c4d6c'"
      ]
     },
     "execution_count": 10,
     "metadata": {},
     "output_type": "execute_result"
    }
   ],
   "source": [
    "# to get the ami id of the created instance\n",
    "response[0].image_id"
   ]
  },
  {
   "cell_type": "code",
   "execution_count": 14,
   "id": "b9cf3f0c",
   "metadata": {},
   "outputs": [
    {
     "data": {
      "text/plain": [
       "{'Code': 0, 'Name': 'pending'}"
      ]
     },
     "execution_count": 14,
     "metadata": {},
     "output_type": "execute_result"
    }
   ],
   "source": [
    "# to get the state of the instance after creating instance, so basically after creating a instance \n",
    "# it will be in pending\n",
    "response[0].state"
   ]
  },
  {
   "cell_type": "code",
   "execution_count": null,
   "id": "ea52798a",
   "metadata": {},
   "outputs": [],
   "source": []
  }
 ],
 "metadata": {
  "kernelspec": {
   "display_name": "Python 3 (ipykernel)",
   "language": "python",
   "name": "python3"
  },
  "language_info": {
   "codemirror_mode": {
    "name": "ipython",
    "version": 3
   },
   "file_extension": ".py",
   "mimetype": "text/x-python",
   "name": "python",
   "nbconvert_exporter": "python",
   "pygments_lexer": "ipython3",
   "version": "3.9.12"
  }
 },
 "nbformat": 4,
 "nbformat_minor": 5
}
