{
 "cells": [
  {
   "cell_type": "code",
   "execution_count": null,
   "id": "c292c709",
   "metadata": {},
   "outputs": [],
   "source": [
    "# for creating a bucket\n",
    "import boto3\n",
    "s3_client = boto3.client('s3')\n",
    "bucket_name = 'manish0706bucket1'\n",
    "s3_client.create_bucket(Bucket=bucket_name,CreateBucketConfiguration={\n",
    "          'LocationConstraint': 'ap-south-1'})"
   ]
  },
  {
   "cell_type": "code",
   "execution_count": 1,
   "id": "e9574a54",
   "metadata": {},
   "outputs": [],
   "source": [
    "# for uploading object to a bucket\n",
    "import boto3\n",
    "s3_client = boto3.client('s3')\n",
    "bucket_name = 'manish0706bucket1'\n",
    "file_name = 'PyWhatKit_DB.txt'\n",
    "object_key = 'myobject1'\n",
    "s3_client.upload_file(file_name, bucket_name, object_key)"
   ]
  }
 ],
 "metadata": {
  "kernelspec": {
   "display_name": "Python 3 (ipykernel)",
   "language": "python",
   "name": "python3"
  },
  "language_info": {
   "codemirror_mode": {
    "name": "ipython",
    "version": 3
   },
   "file_extension": ".py",
   "mimetype": "text/x-python",
   "name": "python",
   "nbconvert_exporter": "python",
   "pygments_lexer": "ipython3",
   "version": "3.9.12"
  }
 },
 "nbformat": 4,
 "nbformat_minor": 5
}
