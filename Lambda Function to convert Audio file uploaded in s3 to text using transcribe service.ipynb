{
 "cells": [
  {
   "cell_type": "code",
   "execution_count": null,
   "id": "e04d09a2",
   "metadata": {},
   "outputs": [],
   "source": [
    "import json\n",
    "import boto3\n",
    "import uuid\n",
    "\n",
    "transcribe = boto3.client('transcribe')\n",
    "\n",
    "def lambda_handler(event, context):\n",
    "    \n",
    "    bucket_name=event[\"Records\"][0][\"s3\"][\"bucket\"][\"name\"]\n",
    "    \n",
    "    filename=event[\"Records\"][0][\"s3\"][\"object\"][\"key\"]\n",
    "    \n",
    "    url=\"s3://\"+bucket_name+\"/\"+filename\n",
    "    \n",
    "    myuuid = uuid.uuid1().int\n",
    "    \n",
    "    response = transcribe.start_transcription_job(TranscriptionJobName=\"ManishJob\" + '-' +str(myuuid),\n",
    "                                   LanguageCode='en-US',\n",
    "                                   Media={'MediaFileUri': url},\n",
    "                                   OutputBucketName=bucket_name,\n",
    "                                   OutputKey=filename+'TranscribedText.json',\n",
    "                                   MediaFormat=\"mp3\"\n",
    "                                  )\n",
    "    \n",
    "    print(response)"
   ]
  },
  {
   "cell_type": "code",
   "execution_count": 3,
   "id": "cf4a3363",
   "metadata": {},
   "outputs": [
    {
     "data": {
      "text/plain": [
       "'pasfs.json'"
      ]
     },
     "execution_count": 3,
     "metadata": {},
     "output_type": "execute_result"
    }
   ],
   "source": [
    "filename=\"pasfs.mp3\"\n",
    "filename.split('.')[0] + '.json'"
   ]
  }
 ],
 "metadata": {
  "kernelspec": {
   "display_name": "Python 3 (ipykernel)",
   "language": "python",
   "name": "python3"
  },
  "language_info": {
   "codemirror_mode": {
    "name": "ipython",
    "version": 3
   },
   "file_extension": ".py",
   "mimetype": "text/x-python",
   "name": "python",
   "nbconvert_exporter": "python",
   "pygments_lexer": "ipython3",
   "version": "3.9.12"
  }
 },
 "nbformat": 4,
 "nbformat_minor": 5
}
